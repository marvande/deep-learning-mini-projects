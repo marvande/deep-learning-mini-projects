{
 "cells": [
  {
   "cell_type": "markdown",
   "id": "coordinated-techno",
   "metadata": {},
   "source": [
    "### ReLU model"
   ]
  },
  {
   "cell_type": "markdown",
   "id": "stable-proportion",
   "metadata": {},
   "source": [
    "##### Imports"
   ]
  },
  {
   "cell_type": "code",
   "execution_count": 10,
   "id": "industrial-pharmacy",
   "metadata": {},
   "outputs": [
    {
     "data": {
      "text/plain": [
       "<torch.autograd.grad_mode.set_grad_enabled at 0x7f5525d41828>"
      ]
     },
     "execution_count": 10,
     "metadata": {},
     "output_type": "execute_result"
    }
   ],
   "source": [
    "#from torch import empty as e\n",
    "from torch import empty\n",
    "import torch\n",
    "#import torch.empty\n",
    "import math\n",
    "import matplotlib.pyplot as plt\n",
    "torch.set_grad_enabled(False)"
   ]
  },
  {
   "cell_type": "markdown",
   "id": "annual-symphony",
   "metadata": {},
   "source": [
    "##### Test and Training Set by Marijn"
   ]
  },
  {
   "cell_type": "code",
   "execution_count": 11,
   "id": "closed-salem",
   "metadata": {},
   "outputs": [],
   "source": [
    "def in_circle(p1, center, radius):\n",
    "    d = math.sqrt((p1[0]-center[0])**2 + (p1[1]-center[1])**2)\n",
    "    return d<=r"
   ]
  },
  {
   "cell_type": "code",
   "execution_count": 12,
   "id": "proprietary-pottery",
   "metadata": {},
   "outputs": [
    {
     "name": "stdout",
     "output_type": "stream",
     "text": [
      "True\n"
     ]
    },
    {
     "data": {
      "text/plain": [
       "[<matplotlib.lines.Line2D at 0x7f5525cbab00>]"
      ]
     },
     "execution_count": 12,
     "metadata": {},
     "output_type": "execute_result"
    },
    {
     "data": {
      "image/png": "[encoded data removed]",
      "text/plain": [
       "<Figure size 432x288 with 1 Axes>"
      ]
     },
     "metadata": {
      "needs_background": "light"
     },
     "output_type": "display_data"
    }
   ],
   "source": [
    "# test my function :) \n",
    "point = torch.empty(2).uniform_()\n",
    "fig, ax = plt.subplots()\n",
    "r = 1/(math.sqrt(2*math.pi))\n",
    "\n",
    "print(in_circle(point, (0.5, 0.5), r))\n",
    "circle1 = plt.Circle((0.5, 0.5), 1/(math.sqrt(2*math.pi)), alpha = 0.5)\n",
    "ax.add_patch(circle1)\n",
    "ax.plot(point[0], point[1], 'x',color = 'r')"
   ]
  },
  {
   "cell_type": "code",
   "execution_count": 13,
   "id": "neural-flooring",
   "metadata": {},
   "outputs": [
    {
     "data": {
      "text/plain": [
       "(tensor([[0.0885, 0.1320],\n",
       "         [0.3074, 0.6341],\n",
       "         [0.4901, 0.8964],\n",
       "         ...,\n",
       "         [0.5335, 0.5196],\n",
       "         [0.3481, 0.8767],\n",
       "         [0.7773, 0.5896]]),\n",
       " tensor([0., 1., 1., 1., 1., 0., 1., 1., 0., 0.]))"
      ]
     },
     "execution_count": 13,
     "metadata": {},
     "output_type": "execute_result"
    }
   ],
   "source": [
    "N = 1000\n",
    "center = (0.5, 0.5)\n",
    "r = 1/(math.sqrt(2*math.pi))\n",
    "\n",
    "train_set = torch.empty(N, 2).uniform_()\n",
    "\n",
    "#0-1 labels\n",
    "train_labels = torch.empty(N)\n",
    "\n",
    "for i in range(len(train_set)):\n",
    "    train_labels[i] = in_circle(train_set[i], center, r)\n",
    "    \n",
    "train_set, train_labels[:10]"
   ]
  },
  {
   "cell_type": "markdown",
   "id": "different-challenge",
   "metadata": {},
   "source": [
    "##### Module"
   ]
  },
  {
   "cell_type": "code",
   "execution_count": 19,
   "id": "limited-validation",
   "metadata": {},
   "outputs": [],
   "source": [
    "class Module(object):\n",
    "    '''\n",
    "    If a tuple is used it has to be starred:\n",
    "    tup = empty(2, 2).normal_(), empty(1, 2).normal_()\n",
    "    m = Module()\n",
    "    m.forward(*tup) \n",
    "    m.forward(empty(2, 2).normal_(), empty(1, 2).normal_()) # is also ok\n",
    "    '''\n",
    "    def forward(self, *input):\n",
    "        raise NotImplementedError\n",
    "\n",
    "    def backward(self, *gradwrtoutput):\n",
    "        raise NotImplementedError\n",
    "\n",
    "    def param(self):\n",
    "        return []\n",
    "\n",
    "\n",
    "class ReLU(Module):\n",
    "    \n",
    "    def __init__(self):\n",
    "        self.input = None\n",
    "    \n",
    "    def relu(self, x):\n",
    "        z = empty(x.size()).fill_(0)\n",
    "        relu = x.maximum(z)\n",
    "        print(\"your x\", x, \"your z\", z, \"your relu\", relu)\n",
    "        return relu\n",
    "    \n",
    "    def d_relu(self, x):\n",
    "        c = x.detach().clone()\n",
    "        d_relu = x.apply_(lambda x: 1 if x > 0 else 0)\n",
    "        print(\"your x\", c, \"your d_relu\", d_relu)\n",
    "        return d_relu\n",
    "        \n",
    "    def forward (self, *input):\n",
    "        self.input = input\n",
    "\n",
    "        return tuple([self.relu(tensor) for tensor in input])\n",
    "        \n",
    "    def backward (self, *gradwrtoutput):     \n",
    "        return tuple([gradwrtoutput[i] * self.d_relu(self.input[i]) for i in range(len(self.input))])\n",
    "    \n",
    "class ParamReLU(Module):\n",
    "    \n",
    "    def __init__(self, par):\n",
    "        self.input = None\n",
    "        self.par = par\n",
    "    \n",
    "    def relu(self, x):\n",
    "        relu = x.apply_(lambda x: x if x>0 else self.par*x)\n",
    "        return relu\n",
    "    \n",
    "    def d_relu(self, x):\n",
    "        c = x.detach().clone()\n",
    "        d_relu = x.apply_(lambda x: 1 if x > 0 else self.par)\n",
    "        print(\"your x\", c, \"your d_relu\", d_relu)\n",
    "        return d_relu\n",
    "        \n",
    "    def forward (self, *input):\n",
    "        self.input = input\n",
    "\n",
    "        return tuple([self.relu(tensor) for tensor in input])\n",
    "        \n",
    "    def backward (self, *gradwrtoutput):     \n",
    "        return tuple([gradwrtoutput[i] * self.d_relu(self.input[i]) for i in range(len(self.input))])\n",
    "    \n",
    "    def param(self):\n",
    "        return [self.par]"
   ]
  },
  {
   "cell_type": "markdown",
   "id": "atmospheric-facial",
   "metadata": {},
   "source": [
    "##### First Example"
   ]
  },
  {
   "cell_type": "code",
   "execution_count": 20,
   "id": "freelance-permission",
   "metadata": {},
   "outputs": [
    {
     "name": "stdout",
     "output_type": "stream",
     "text": [
      "forward: (tensor([[-0.3000, -0.3000],\n",
      "        [-0.3000, -0.3000]]), tensor([0, 2]))\n",
      "\n",
      "your x tensor([[-0.3000, -0.3000],\n",
      "        [-0.3000, -0.3000]]) your d_relu tensor([[0.1000, 0.1000],\n",
      "        [0.1000, 0.1000]])\n",
      "your x tensor([0, 2]) your d_relu tensor([0, 1])\n",
      "backward: (tensor([[2.0000e-05, 2.0000e-05],\n",
      "        [2.0000e-05, 2.0000e-05]]), tensor([0., 0.]))\n",
      "\n",
      "[0.1]\n"
     ]
    }
   ],
   "source": [
    "torch.manual_seed(0)\n",
    "\n",
    "temp = torch.empty(2, 2).fill_(-3), torch.tensor((-2, 2))\n",
    "temp_error = torch.empty(1).fill_(2e-4), torch.empty(1).fill_(0)\n",
    "#m = ReLU()\n",
    "m = ParamReLU(0.1)\n",
    "\n",
    "x = m.forward(*temp)\n",
    "print(\"forward: {}\\n\".format(x))\n",
    "\n",
    "\n",
    "x = m.backward(*temp_error)\n",
    "print(\"backward: {}\\n\".format(x))\n",
    "print(m.param())"
   ]
  },
  {
   "cell_type": "code",
   "execution_count": null,
   "id": "working-implementation",
   "metadata": {},
   "outputs": [],
   "source": []
  },
  {
   "cell_type": "code",
   "execution_count": null,
   "id": "supposed-works",
   "metadata": {},
   "outputs": [],
   "source": []
  }
 ],
 "metadata": {
  "kernelspec": {
   "display_name": "Python 3",
   "language": "python",
   "name": "python3"
  },
  "language_info": {
   "codemirror_mode": {
    "name": "ipython",
    "version": 3
   },
   "file_extension": ".py",
   "mimetype": "text/x-python",
   "name": "python",
   "nbconvert_exporter": "python",
   "pygments_lexer": "ipython3",
   "version": "3.6.9"
  },
  "toc": {
   "base_numbering": 1,
   "nav_menu": {},
   "number_sections": true,
   "sideBar": true,
   "skip_h1_title": false,
   "title_cell": "Table of Contents",
   "title_sidebar": "Contents",
   "toc_cell": false,
   "toc_position": {},
   "toc_section_display": true,
   "toc_window_display": false
  }
 },
 "nbformat": 4,
 "nbformat_minor": 5
}
