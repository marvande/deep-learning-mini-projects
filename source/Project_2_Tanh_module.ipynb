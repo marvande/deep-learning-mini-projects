{
 "cells": [
  {
   "cell_type": "code",
   "execution_count": null,
   "metadata": {},
   "outputs": [],
   "source": [
    "from torch import empty\n",
    "import torch\n",
    "torch.set_grad_enabled(False)"
   ]
  },
  {
   "cell_type": "markdown",
   "metadata": {},
   "source": [
    "### The module"
   ]
  },
  {
   "cell_type": "code",
   "execution_count": null,
   "metadata": {},
   "outputs": [],
   "source": [
    "class Module(object):\n",
    "    '''\n",
    "    If a tuple is used it has to be starred:\n",
    "    tup = empty(2, 2).normal_(), empty(1, 2).normal_()\n",
    "    m = Module()\n",
    "    m.forward(*tup) \n",
    "    m.forward(empty(2, 2).normal_(), empty(1, 2).normal_()) # is also ok\n",
    "    '''\n",
    "    \n",
    "    def forward(self, *input):\n",
    "        raise NotImplementedError\n",
    "        \n",
    "    def backward(self, *gradwrtoutput):\n",
    "        raise NotImplementedError\n",
    "        \n",
    "    def param(self):\n",
    "        return []\n",
    "\n",
    "\n",
    "class Tanh(Module):\n",
    "    \n",
    "    def __init__(self):\n",
    "        self.input = None\n",
    "    \n",
    "    def tanh(self, x):\n",
    "        ex = x.exp()\n",
    "        emx = (-x).exp()\n",
    "        \n",
    "        return (ex - emx)/(ex + emx)\n",
    "    \n",
    "    def d_tanh(self, x):\n",
    "        ex = x.exp()\n",
    "        emx = (-x).exp()\n",
    "        \n",
    "        return 4/(ex + emx).pow(2)\n",
    "        \n",
    "    def forward (self, *input):\n",
    "        self.input = input\n",
    "\n",
    "        return tuple([self.tanh(tensor) for tensor in input])\n",
    "        \n",
    "    def backward (self, *gradwrtoutput):     \n",
    "        return tuple([gradwrtoutput[i] * self.d_tanh(self.input[i]) for i in range(len(self.input))])"
   ]
  },
  {
   "cell_type": "markdown",
   "metadata": {},
   "source": [
    "### Small example"
   ]
  },
  {
   "cell_type": "code",
   "execution_count": null,
   "metadata": {},
   "outputs": [],
   "source": [
    "torch.manual_seed(0)\n",
    "\n",
    "temp = empty(2, 2).fill_(1), empty(1, 2).fill_(1)\n",
    "temp_error = empty(1).fill_(2e-4), empty(1).fill_(0)\n",
    "m = Tanh()\n",
    "\n",
    "x = m.forward(*temp)\n",
    "print(\"forward: {}\\n\".format(x))\n",
    "\n",
    "x = m.backward(*temp_error)\n",
    "print(\"backward: {}\\n\".format(x))"
   ]
  },
  {
   "cell_type": "code",
   "execution_count": null,
   "metadata": {},
   "outputs": [],
   "source": []
  }
 ],
 "metadata": {
  "kernelspec": {
   "display_name": "Python 3",
   "language": "python",
   "name": "python3"
  },
  "language_info": {
   "codemirror_mode": {
    "name": "ipython",
    "version": 3
   },
   "file_extension": ".py",
   "mimetype": "text/x-python",
   "name": "python",
   "nbconvert_exporter": "python",
   "pygments_lexer": "ipython3",
   "version": "3.7.3"
  },
  "toc": {
   "base_numbering": 1,
   "nav_menu": {},
   "number_sections": true,
   "sideBar": true,
   "skip_h1_title": false,
   "title_cell": "Table of Contents",
   "title_sidebar": "Contents",
   "toc_cell": false,
   "toc_position": {},
   "toc_section_display": true,
   "toc_window_display": false
  }
 },
 "nbformat": 4,
 "nbformat_minor": 4
}
