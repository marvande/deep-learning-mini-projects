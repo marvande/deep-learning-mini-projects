{
 "cells": [
  {
   "cell_type": "markdown",
   "metadata": {},
   "source": [
    "# Project 2"
   ]
  },
  {
   "cell_type": "code",
   "execution_count": null,
   "metadata": {},
   "outputs": [],
   "source": [
    "import math\n",
    "import torch"
   ]
  },
  {
   "cell_type": "code",
   "execution_count": null,
   "metadata": {},
   "outputs": [],
   "source": [
    "torch.set_grad_enabled(False)"
   ]
  },
  {
   "cell_type": "code",
   "execution_count": null,
   "metadata": {},
   "outputs": [],
   "source": [
    "import matplotlib.pyplot as plt"
   ]
  },
  {
   "cell_type": "markdown",
   "metadata": {},
   "source": [
    "## Generate test and training set"
   ]
  },
  {
   "cell_type": "markdown",
   "metadata": {
    "run_control": {
     "marked": true
    }
   },
   "source": [
    "Generates a training and a test set of $1'000$ points sampled uniformly in $[0, 1]x[0,1]$, each with a label 0 if outside the disk centered at $(0.5; 0.5)$ of radius $1/\\sqrt2\\pi$, and 1 inside"
   ]
  },
  {
   "cell_type": "code",
   "execution_count": null,
   "metadata": {},
   "outputs": [],
   "source": [
    "def in_circle(p1, center, radius):\n",
    "    d = math.sqrt((p1[0]-center[0])**2 + (p1[1]-center[1])**2)\n",
    "    return d<=r"
   ]
  },
  {
   "cell_type": "code",
   "execution_count": null,
   "metadata": {},
   "outputs": [],
   "source": [
    "# test my function :) \n",
    "point = torch.empty(2).uniform_()\n",
    "fig, ax = plt.subplots()\n",
    "r = 1/(math.sqrt(2*math.pi))\n",
    "\n",
    "print(in_circle(point, (0.5, 0.5), r))\n",
    "circle1 = plt.Circle((0.5, 0.5), 1/(math.sqrt(2*math.pi)), alpha = 0.5)\n",
    "ax.add_patch(circle1)\n",
    "ax.plot(point[0], point[1], 'x',color = 'r')"
   ]
  },
  {
   "cell_type": "code",
   "execution_count": null,
   "metadata": {},
   "outputs": [],
   "source": [
    "def generate_set(N):\n",
    "    center = (0.5, 0.5)\n",
    "    r = 1/(math.sqrt(2*math.pi))\n",
    "\n",
    "    train_set = torch.empty(N, 2).uniform_()\n",
    "\n",
    "    #0-1 labels\n",
    "    train_labels = torch.empty(N)\n",
    "\n",
    "    for i in range(len(train_set)):\n",
    "        train_labels[i] = in_circle(train_set[i], center, r)\n",
    "\n",
    "    return train_set, train_labels"
   ]
  },
  {
   "cell_type": "code",
   "execution_count": null,
   "metadata": {},
   "outputs": [],
   "source": [
    "N = 1000\n",
    "center = (0.5, 0.5)\n",
    "r = 1/(math.sqrt(2*math.pi))\n",
    "\n",
    "train_set = torch.empty(N, 2).uniform_()\n",
    "\n",
    "#0-1 labels\n",
    "train_labels = torch.empty(N)\n",
    "\n",
    "for i in range(len(train_set)):\n",
    "    train_labels[i] = in_circle(train_set[i], center, r)\n",
    "    \n",
    "train_set, train_labels[:10]"
   ]
  },
  {
   "cell_type": "markdown",
   "metadata": {},
   "source": [
    "## Loss MSE: \n",
    "\n",
    "$MSE = 1/n \\sum_{i = 1}^{N}(Y_i-w^TX)^2$"
   ]
  },
  {
   "cell_type": "markdown",
   "metadata": {},
   "source": [
    "### Small example: "
   ]
  },
  {
   "cell_type": "code",
   "execution_count": null,
   "metadata": {},
   "outputs": [],
   "source": [
    "torch.manual_seed(0)\n",
    "\n",
    "temp_pred = torch.empty(1, 6).uniform_()\n",
    "temp_labels = torch.empty(1,6).uniform_()\n",
    "\n",
    "temp_error = torch.empty(1).fill_(2e-4)\n",
    "\n",
    "inp = tuple([temp_pred, temp_labels])\n",
    "m = MSE()\n",
    "\n",
    "x = m.forward(*inp)\n",
    "print(\"forward: {}\\n\".format(x))\n",
    "\n",
    "\n",
    "x = m.backward()\n",
    "print(\"backward: {}\\n\".format(x))"
   ]
  },
  {
   "cell_type": "code",
   "execution_count": null,
   "metadata": {},
   "outputs": [],
   "source": []
  },
  {
   "cell_type": "code",
   "execution_count": null,
   "metadata": {},
   "outputs": [],
   "source": []
  }
 ],
 "metadata": {
  "kernelspec": {
   "display_name": "Python 3",
   "language": "python",
   "name": "python3"
  },
  "language_info": {
   "codemirror_mode": {
    "name": "ipython",
    "version": 3
   },
   "file_extension": ".py",
   "mimetype": "text/x-python",
   "name": "python",
   "nbconvert_exporter": "python",
   "pygments_lexer": "ipython3",
   "version": "3.7.3"
  },
  "toc": {
   "base_numbering": 1,
   "nav_menu": {},
   "number_sections": true,
   "sideBar": true,
   "skip_h1_title": false,
   "title_cell": "Table of Contents",
   "title_sidebar": "Contents",
   "toc_cell": false,
   "toc_position": {},
   "toc_section_display": true,
   "toc_window_display": false
  }
 },
 "nbformat": 4,
 "nbformat_minor": 4
}
